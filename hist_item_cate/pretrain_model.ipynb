{
 "cells": [
  {
   "cell_type": "code",
   "execution_count": null,
   "metadata": {},
   "outputs": [],
   "source": [
    "import os\n",
    "import sys\n",
    "import torch\n",
    "import torch\n",
    "import torchvision\n",
    "import torchvision.transforms as transforms\n",
    "import torchvision.models as models\n",
    "import torch.distributions as distributions\n",
    "import torch.optim as optim\n",
    "import torch.nn as nn\n",
    "import torch.nn.functional as F\n",
    "from torch.utils.data import Dataset, DataLoader\n",
    "import torchvision\n",
    "import torchvision.models as models"
   ]
  },
  {
   "cell_type": "code",
   "execution_count": null,
   "metadata": {},
   "outputs": [],
   "source": [
    "def get_resnet50(output_shape):\n",
    "\n",
    "    class Classifier(nn.Module):\n",
    "        def __init__(self):\n",
    "            super(Classifier, self).__init__()\n",
    "            self.resnet50_ft = models.resnet50(pretrained=True)\n",
    "\n",
    "            self.relu1 = nn.ReLU()\n",
    "            self.new_fc = nn.Linear(in_features=1000, out_features=output_shape, bias=True)\n",
    "            \n",
    "\n",
    "        def forward(self, x):\n",
    "            x = self.resnet50_ft(x)\n",
    "            x = self.relu1(x)\n",
    "            x = self.new_fc(x)\n",
    "\n",
    "            return x\n",
    "    \n",
    "    clf = Classifier()\n",
    "    \n",
    "    return clf"
   ]
  },
  {
   "cell_type": "code",
   "execution_count": null,
   "metadata": {},
   "outputs": [],
   "source": [
    "def get_vgg16(output_shape):\n",
    "\n",
    "    class Classifier(nn.Module):\n",
    "        def __init__(self):\n",
    "            super(Classifier, self).__init__()\n",
    "            self.vgg16_ft = models.vgg16(pretrained=True)\n",
    "\n",
    "            self.relu1 = nn.ReLU()\n",
    "            self.new_fc = nn.Linear(in_features=1000, out_features=output_shape, bias=True)\n",
    "            \n",
    "\n",
    "        def forward(self, x):\n",
    "            x = self.vgg16_ft(x)\n",
    "            x = self.relu1(x)\n",
    "            x = self.new_fc(x)\n",
    "\n",
    "            return x\n",
    "    \n",
    "    clf = Classifier()\n",
    "    \n",
    "    return clf"
   ]
  },
  {
   "cell_type": "code",
   "execution_count": null,
   "metadata": {},
   "outputs": [],
   "source": [
    "def get_resnext50(output_shape):\n",
    "\n",
    "    class Classifier(nn.Module):\n",
    "        def __init__(self):\n",
    "            super(Classifier, self).__init__()\n",
    "            self.resnext50_32x4d_ft = models.resnext50_32x4d(pretrained=True)\n",
    "\n",
    "            self.relu1 = nn.ReLU()\n",
    "            self.new_fc = nn.Linear(in_features=1000, out_features=output_shape, bias=True)\n",
    "            \n",
    "\n",
    "        def forward(self, x):\n",
    "            x = self.resnext50_32x4d_ft(x)\n",
    "            x = self.relu1(x)\n",
    "            x = self.new_fc(x)\n",
    "\n",
    "            return x\n",
    "    \n",
    "    clf = Classifier()\n",
    "    \n",
    "    return clf"
   ]
  },
  {
   "cell_type": "code",
   "execution_count": null,
   "metadata": {},
   "outputs": [],
   "source": [
    "def get_alexnet(output_shape):\n",
    "\n",
    "    class Classifier(nn.Module):\n",
    "        def __init__(self):\n",
    "            super(Classifier, self).__init__()\n",
    "            self.alexnet_ft = models.alexnet(pretrained=True)\n",
    "\n",
    "            self.relu1 = nn.ReLU()\n",
    "            self.new_fc = nn.Linear(in_features=1000, out_features=output_shape, bias=True)\n",
    "            \n",
    "\n",
    "        def forward(self, x):\n",
    "            x = self.alexnet_ft(x)\n",
    "            x = self.relu1(x)\n",
    "            x = self.new_fc(x)\n",
    "\n",
    "            return x\n",
    "    \n",
    "    clf = Classifier()\n",
    "    \n",
    "    return clf"
   ]
  },
  {
   "cell_type": "code",
   "execution_count": null,
   "metadata": {},
   "outputs": [],
   "source": [
    "def get_efficientnet_b0(output_shape):\n",
    "\n",
    "    class Classifier(nn.Module):\n",
    "        def __init__(self):\n",
    "            super(Classifier, self).__init__()\n",
    "            self.efficientnet_b0_ft = models.efficientnet_b0(pretrained=True)\n",
    "\n",
    "            self.relu1 = nn.ReLU()\n",
    "            self.new_fc = nn.Linear(in_features=1000, out_features=output_shape, bias=True)\n",
    "            \n",
    "\n",
    "        def forward(self, x):\n",
    "            x = self.efficientnet_b0_ft(x)\n",
    "            x = self.relu1(x)\n",
    "            x = self.new_fc(x)\n",
    "\n",
    "            return x\n",
    "    \n",
    "    clf = Classifier()\n",
    "    \n",
    "    return clf"
   ]
  },
  {
   "cell_type": "code",
   "execution_count": null,
   "metadata": {},
   "outputs": [],
   "source": [
    "def get_pretrain_model(name):\n",
    "    if name == 'resnet50':\n",
    "        return get_resnet50(8)\n",
    "    elif name == 'vgg16':\n",
    "        return get_vgg16(8)\n",
    "    elif name == 'resnext50':\n",
    "        return get_resnext50(8)\n",
    "    elif name == 'alexnet':\n",
    "        return get_alexnet(8)\n",
    "    elif name == 'efficientnet_b0':\n",
    "        return get_efficientnet_b0(8)\n",
    "    else:\n",
    "        return None"
   ]
  },
  {
   "cell_type": "code",
   "execution_count": null,
   "metadata": {},
   "outputs": [],
   "source": [
    "# print(get_pretrain_model('efficientnet_b0'))"
   ]
  },
  {
   "cell_type": "code",
   "execution_count": null,
   "metadata": {},
   "outputs": [],
   "source": []
  }
 ],
 "metadata": {
  "kernelspec": {
   "display_name": "Python [conda env:torchgpu]",
   "language": "python",
   "name": "conda-env-torchgpu-py"
  },
  "language_info": {
   "codemirror_mode": {
    "name": "ipython",
    "version": 3
   },
   "file_extension": ".py",
   "mimetype": "text/x-python",
   "name": "python",
   "nbconvert_exporter": "python",
   "pygments_lexer": "ipython3",
   "version": "3.8.5"
  }
 },
 "nbformat": 4,
 "nbformat_minor": 4
}
