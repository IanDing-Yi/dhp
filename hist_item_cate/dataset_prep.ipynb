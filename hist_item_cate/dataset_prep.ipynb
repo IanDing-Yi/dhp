{
 "cells": [
  {
   "cell_type": "code",
   "execution_count": 1,
   "metadata": {},
   "outputs": [],
   "source": [
    "import os\n",
    "import random as r"
   ]
  },
  {
   "cell_type": "code",
   "execution_count": 2,
   "metadata": {},
   "outputs": [],
   "source": [
    "alldata = {}\n",
    "with open('images.csv', 'r') as f:\n",
    "    for l in f:\n",
    "        l = l.strip()\n",
    "        fpath, label = l.split(',')\n",
    "        if label not in alldata:\n",
    "            alldata[label] = []\n",
    "            \n",
    "        alldata[label].append(fpath)\n",
    "        "
   ]
  },
  {
   "cell_type": "code",
   "execution_count": 3,
   "metadata": {},
   "outputs": [],
   "source": [
    "# naive:\n",
    "# train: 60% images each\n",
    "# valid: 20% images each\n",
    "# test: rest\n",
    "\n",
    "train_data = {}\n",
    "train_num = [36,58,9,16,38,6,11,19]\n",
    "valid_data = {}\n",
    "valid_num = [12,19,3,5,13,2,4,6]\n",
    "test_data = {}\n",
    "\n",
    "for it in alldata:\n",
    "    train_it = r.Random(1).sample(alldata[it], train_num[int(it)])\n",
    "    for tr in train_it:\n",
    "        alldata[it].remove(tr)\n",
    "        \n",
    "    train_data[it] = train_it\n",
    "    \n",
    "    valid_it = r.Random(1).sample(alldata[it], valid_num[int(it)])\n",
    "    for vl in valid_it:\n",
    "        alldata[it].remove(vl)\n",
    "        \n",
    "    valid_data[it] = valid_it\n",
    "    \n",
    "    test_data[it] = alldata[it]\n",
    "\n",
    "with open('naive_train.csv', 'w') as f:\n",
    "    for cl in train_data:\n",
    "        for it in train_data[cl]:\n",
    "            f.write(it+','+cl+'\\n')\n",
    "            \n",
    "with open('naive_valid.csv', 'w') as f:\n",
    "    for cl in valid_data:\n",
    "        for it in valid_data[cl]:\n",
    "            f.write(it+','+cl+'\\n')\n",
    "            \n",
    "with open('naive_test.csv', 'w') as f:\n",
    "    for cl in test_data:\n",
    "        for it in test_data[cl]:\n",
    "            f.write(it+','+cl+'\\n')"
   ]
  },
  {
   "cell_type": "code",
   "execution_count": 7,
   "metadata": {},
   "outputs": [],
   "source": [
    "alldata = {}\n",
    "with open('images.csv', 'r') as f:\n",
    "    for l in f:\n",
    "        l = l.strip()\n",
    "        fpath, label = l.split(',')\n",
    "        if label not in alldata:\n",
    "            alldata[label] = []\n",
    "            \n",
    "        alldata[label].append(fpath)"
   ]
  },
  {
   "cell_type": "code",
   "execution_count": 8,
   "metadata": {},
   "outputs": [],
   "source": [
    "# balance:\n",
    "# train: 5 images each\n",
    "# valid: 20% images each\n",
    "# test: rest\n",
    "\n",
    "train_data = {}\n",
    "valid_data = {}\n",
    "valid_num = [12,19,3,5,13,2,4,6]\n",
    "test_data = {}\n",
    "\n",
    "for it in alldata:\n",
    "    train_it = r.Random(1).sample(alldata[it], 5)\n",
    "    for tr in train_it:\n",
    "        alldata[it].remove(tr)\n",
    "        \n",
    "    train_data[it] = train_it\n",
    "    \n",
    "    valid_it = r.Random(1).sample(alldata[it], valid_num[int(it)])\n",
    "    for vl in valid_it:\n",
    "        alldata[it].remove(vl)\n",
    "        \n",
    "    valid_data[it] = valid_it\n",
    "    \n",
    "    test_data[it] = alldata[it]\n",
    "\n",
    "# print(train_data)\n",
    "# print('--------------------------------------------------------------------')\n",
    "# print(valid_data)\n",
    "# print('--------------------------------------------------------------------')\n",
    "# print(test_data)\n",
    "\n",
    "with open('balanced_train.csv', 'w') as f:\n",
    "    for cl in train_data:\n",
    "        for it in train_data[cl]:\n",
    "            f.write(it+','+cl+'\\n')\n",
    "            \n",
    "with open('balanced_valid.csv', 'w') as f:\n",
    "    for cl in valid_data:\n",
    "        for it in valid_data[cl]:\n",
    "            f.write(it+','+cl+'\\n')\n",
    "            \n",
    "with open('balanced_test.csv', 'w') as f:\n",
    "    for cl in test_data:\n",
    "        for it in test_data[cl]:\n",
    "            f.write(it+','+cl+'\\n')"
   ]
  },
  {
   "cell_type": "code",
   "execution_count": null,
   "metadata": {},
   "outputs": [],
   "source": []
  }
 ],
 "metadata": {
  "kernelspec": {
   "display_name": "Python 3",
   "language": "python",
   "name": "python3"
  },
  "language_info": {
   "codemirror_mode": {
    "name": "ipython",
    "version": 3
   },
   "file_extension": ".py",
   "mimetype": "text/x-python",
   "name": "python",
   "nbconvert_exporter": "python",
   "pygments_lexer": "ipython3",
   "version": "3.7.9"
  }
 },
 "nbformat": 4,
 "nbformat_minor": 4
}
